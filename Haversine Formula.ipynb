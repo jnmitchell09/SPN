{
 "cells": [
  {
   "cell_type": "code",
   "execution_count": 1,
   "metadata": {},
   "outputs": [],
   "source": [
    "from math import radians, cos, sin, asin, sqrt\n",
    "\n",
    "def haversine(lon1, lat1, lon2, lat2):\n",
    "    \"\"\"\n",
    "    Calculate the great circle distance between two points \n",
    "    on the earth (specified in decimal degrees)\n",
    "    \"\"\"\n",
    "    # convert decimal degrees to radians \n",
    "    lon1, lat1, lon2, lat2 = map(radians, [lon1, lat1, lon2, lat2])\n",
    "\n",
    "    # haversine formula \n",
    "    dlon = lon2 - lon1 \n",
    "    dlat = lat2 - lat1 \n",
    "    a = sin(dlat/2)**2 + cos(lat1) * cos(lat2) * sin(dlon/2)**2\n",
    "    c = 2 * asin(sqrt(a)) \n",
    "    r = 3956 # Radius of earth in miles.\n",
    "    return c * r\n"
   ]
  },
  {
   "cell_type": "code",
   "execution_count": 2,
   "metadata": {},
   "outputs": [],
   "source": [
    "import pandas as pd\n",
    "import numpy as np"
   ]
  },
  {
   "cell_type": "code",
   "execution_count": 3,
   "metadata": {},
   "outputs": [],
   "source": [
    "# import example data\n",
    "df = pd.read_csv(r'/Users/Jackson/Desktop/Jupyter_notebooks/Haversine_ex_data.csv', index_col=['Site name'])"
   ]
  },
  {
   "cell_type": "code",
   "execution_count": 4,
   "metadata": {},
   "outputs": [
    {
     "name": "stdout",
     "output_type": "stream",
     "text": [
      "           Latitude  Longitude  March 2018  April 2018  May 2018\n",
      "Site name                                                       \n",
      "A                15        100           1           2         3\n",
      "B                15        101           1           2         3\n",
      "C                30        140           1           2         3\n"
     ]
    }
   ],
   "source": [
    "print(df)\n"
   ]
  },
  {
   "cell_type": "code",
   "execution_count": 6,
   "metadata": {},
   "outputs": [
    {
     "name": "stdout",
     "output_type": "stream",
     "text": [
      "           Latitude  Longitude  March 2018  April 2018  May 2018\n",
      "Site name                                                       \n",
      "A                 0          0           0           0         0\n",
      "B                 0          0           0           0         0\n",
      "C                 0          0           0           0         0\n"
     ]
    }
   ],
   "source": [
    "# Create empty data frame with identical columns\n",
    "df1 = pd.DataFrame(0, index=df.index, columns=df.columns)\n",
    "print(df1)\n"
   ]
  },
  {
   "cell_type": "code",
   "execution_count": 9,
   "metadata": {
    "scrolled": true
   },
   "outputs": [
    {
     "name": "stdout",
     "output_type": "stream",
     "text": [
      "           Latitude  Longitude  March 2018  April 2018  May 2018\n",
      "Site name                                                       \n",
      "A                 0          0           2           4         6\n",
      "B                 0          0           2           4         6\n",
      "C                 0          0           1           2         3\n"
     ]
    }
   ],
   "source": [
    "# Set the target distance to X miles\n",
    "Rtarget = 1000\n",
    "\n",
    "# Start with the first data column, which is the third from the left, and work through each month\n",
    "for column1, row1 in df.iloc[:,2:].iteritems():\n",
    "    \n",
    "    # Select the initial site and define the starting coordinates\n",
    "    for index2, row2 in df.iterrows():\n",
    "        lat01 = row2['Latitude']\n",
    "        lon01 = row2['Longitude']\n",
    "        msum = 0 # set monthly sum equal to zero\n",
    "        \n",
    "        # Iterate through each comparison site and define comparison coordinates\n",
    "        for index3, row3 in df.iterrows():\n",
    "            lat02 = row3['Latitude']\n",
    "            lon02 = row3['Longitude']\n",
    "            distance = haversine(lon01, lat01, lon02, lat02) # Calculate distance between initial and comparison sites\n",
    "            if distance <= Rtarget: \n",
    "                msum += row3[column1] # Add the value to the monthly sum\n",
    "        \n",
    "        # Place monthly sum into the corresponding location in the empty dataframe, df1\n",
    "        df1[column1][index2] = msum\n",
    "\n",
    "print(df1)\n"
   ]
  },
  {
   "cell_type": "code",
   "execution_count": null,
   "metadata": {},
   "outputs": [],
   "source": []
  }
 ],
 "metadata": {
  "kernelspec": {
   "display_name": "Python 3",
   "language": "python",
   "name": "python3"
  },
  "language_info": {
   "codemirror_mode": {
    "name": "ipython",
    "version": 3
   },
   "file_extension": ".py",
   "mimetype": "text/x-python",
   "name": "python",
   "nbconvert_exporter": "python",
   "pygments_lexer": "ipython3",
   "version": "3.6.5"
  }
 },
 "nbformat": 4,
 "nbformat_minor": 2
}
